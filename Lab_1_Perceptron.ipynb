{
  "nbformat": 4,
  "nbformat_minor": 0,
  "metadata": {
    "colab": {
      "provenance": [],
      "include_colab_link": true
    },
    "kernelspec": {
      "name": "python3",
      "display_name": "Python 3"
    }
  },
  "cells": [
    {
      "cell_type": "markdown",
      "metadata": {
        "id": "view-in-github",
        "colab_type": "text"
      },
      "source": [
        "<a href=\"https://colab.research.google.com/github/JamesElcock/CS331/blob/main/Lab_1_Perceptron.ipynb\" target=\"_parent\"><img src=\"https://colab.research.google.com/assets/colab-badge.svg\" alt=\"Open In Colab\"/></a>"
      ]
    },
    {
      "cell_type": "markdown",
      "source": [
        "# Lab 1 - Emulating Logic Gate with Perceptron"
      ],
      "metadata": {
        "id": "gi7qixVin3Ie"
      }
    },
    {
      "cell_type": "markdown",
      "source": [
        "## Introduction & Background\n",
        "\n",
        "In this lab tutorial, you will practice how to implement the perceptron algorithm for logic gates with 2-bit binary inputs.\n",
        "\n",
        "The perceptron is an algorithm for learning a binary classifier, called a threshold function, which maps its input $\\boldsymbol{x}  = [x_1, x_2, \\cdots, x_n] \\in \\mathbb{R}^n $ to an output binary value $\\hat{y} \\in \\{0, 1\\}$:\n",
        "\n",
        "$$\n",
        "\\hat{y} = H(\\boldsymbol{w} \\cdot \\boldsymbol{x} + b) = H(w_1 x_1 + w_2 x_2 + \\cdots + w_n x_n + b)\n",
        "$$\n",
        "\n",
        "where\n",
        "\n",
        "*   $\\boldsymbol{w} = [w_1, w_2, \\cdots, w_n] \\in \\mathbb{R}^n$ is a weight vector;\n",
        "\n",
        "*   $b \\in \\mathbb{R}$ is a bias;  \n",
        "\n",
        "*   $H(\\cdot)$ is a Heaviside step function defined as $H(z) := \\begin{cases} 1, & z \\ge 0 \\\\ 0, & z < 0 \\end{cases}$.\n",
        "\n",
        "In what follows, your task is to train a NAND gate with two inputs $x_1$ and $x_2$ ($n = 2$). Specifically, the main goal is to find the weight vector $\\boldsymbol{w}$ and bias $b$ of a single-layer perceptron that realises the NAND truth table as follows: $\\{0,1\\}^2 \\to \\{0,1\\}$.\n",
        "\n",
        "\n",
        "| $x_1$ | $x_2$ | $y$  |\n",
        "| :---: |:-----:|:----:|\n",
        "| 0 | 0 | 1|\n",
        "| 0 | 1 | 1|\n",
        "| 1 | 0 | 1|\n",
        "| 1 | 1 | 0|\n",
        "\n",
        "First, convert the truth table into a training set that consists of all mappings for the NAND gate:\n",
        "\n",
        "$$\n",
        "\\boldsymbol{x}^{(1)} = [0, 0], \\quad y^{(1)} = 1 \\\\\n",
        "\\boldsymbol{x}^{(2)} = [0, 1], \\quad  y^{(2)} = 1 \\\\\n",
        "\\boldsymbol{x}^{(3)} = [1, 0], \\quad  y^{(3)} = 1 \\\\\n",
        "\\boldsymbol{x}^{(4)} = [1, 1], \\quad  y^{(4)} = 0 \\\\\n",
        "$$\n",
        "Then, the formula of the single-layer perceptron becomes\n",
        "\n",
        "$$\n",
        "\\hat{y} = H([w_1, w_2] \\cdot \\boldsymbol{x} + b) = H(w_1 x_1 + w_2 x_2 + b)\n",
        "$$"
      ],
      "metadata": {
        "id": "11wwn35pSHlb"
      }
    },
    {
      "cell_type": "markdown",
      "source": [
        "### Exercise 1\n",
        "Write a piece of code to implement Rosenblatt's perceptron training algorithm for emulating the NAND gate, with a fixed number of iterations ($K=500$). The constant learning rate $\\alpha = 0.2$.\n"
      ],
      "metadata": {
        "id": "SyxjJe-DP08k"
      }
    },
    {
      "cell_type": "markdown",
      "source": [
        "### Hints: Basic Numpy Functions\n",
        "If you are new to Python, please start by familiarising yourself with the following [NumPy](https://numpy.org/doc/stable/index.html) functions first, which will be used in later exercises.\n",
        "\n",
        "*   [`numpy.array()`](https://numpy.org/doc/stable/reference/generated/numpy.array.html#numpy.array) - Create an array\n",
        "*   [`numpy.heaviside()`](https://numpy.org/doc/stable/reference/generated/numpy.heaviside.html#numpy.heaviside) - Compute the Heaviside step function\n",
        "*   [`numpy.dot()`](https://numpy.org/doc/stable/reference/generated/numpy.dot.html#numpy.dot) - Compute the dot product of two vectors\n",
        "*   [`numpy.exp()`](https://numpy.org/doc/stable/reference/generated/numpy.exp.html#numpy.exp) - Calculate the exponential of the input\n",
        "*   [`numpy.linspace()`](https://numpy.org/doc/stable/reference/generated/numpy.linspace.html#numpy-linspace) - Create a squence of evenly spaced numbers within a defined interval"
      ],
      "metadata": {
        "id": "_7SYrpxAVm6P"
      }
    },
    {
      "cell_type": "code",
      "source": [
        "import numpy as np\n",
        "\n",
        "# TODO: Add your code here\n",
        "\n",
        "# 1. Build training set x and y for NAND\n",
        "#    Hint: use np.array() to initialise x (2x4) and y (1x4)\n",
        "x = np.array([[0,0],[0,1],[1,0],[1,1]])\n",
        "y = np.array([1,1,1,0])\n",
        "\n",
        "\n",
        "# 2. Initialise w and b at random and set alpha value\n",
        "w = np.random.rand(2)\n",
        "b = np.random.rand()\n",
        "alpha=0.2\n",
        "\n",
        "def predict(x,w,b):\n",
        "  return(np.heaviside(np.dot(x,w)+b,1))\n",
        "\n",
        "\n",
        "\n",
        "# 3. Iteratively update w and b using perceptron learning rule\n",
        "#    Hint:  (e.g.) w = w + (y[i] - y_hat) * alpha * x[i]  (for each i-th example)\n",
        "#        where y_hat is the predicted output w.r.t. input x[i]\n",
        "flag=True\n",
        "while flag:\n",
        "  flag=False\n",
        "  for i in range (len (x)):\n",
        "    y_hat = predict(x[i],w,b)\n",
        "\n",
        "    if y_hat != y[i]: # for a misclassified input\n",
        "      flag=True\n",
        "      w = w + (y[i] - y_hat) * alpha * x[i]\n",
        "\n",
        "\n",
        "\n",
        "# 4. Predict y_pred from NAND input vector x using trained w and b\n",
        "print(predict(x,w,b))\n",
        "\n",
        "\n",
        "# print(f'weight    w = {w}')\n",
        "# print(f'bias      b = {b}')\n",
        "# print(f'predicted y = {y_pred}')"
      ],
      "metadata": {
        "id": "Dn-pA4dZxEBi",
        "colab": {
          "base_uri": "https://localhost:8080/"
        },
        "outputId": "fc10f2fb-a401-4ab1-e196-b89d3c03f085"
      },
      "execution_count": 41,
      "outputs": [
        {
          "output_type": "stream",
          "name": "stdout",
          "text": [
            "[1. 1. 1. 0.]\n"
          ]
        }
      ]
    },
    {
      "cell_type": "markdown",
      "source": [
        "### Exercise 2\n",
        "\n",
        "Write a piece of code to plot the decision boundary of the NAND gate in two dimensions, using the weight `w` and bias `b` learned in Exercise 1."
      ],
      "metadata": {
        "id": "C7jioa6TNfna"
      }
    },
    {
      "cell_type": "markdown",
      "source": [
        "### Hints: Basic Matplotlib Functions\n",
        "\n",
        "If you are new to [Matplotlib](https://matplotlib.org/stable/tutorials/introductory/quick_start.html) (a useful Python package for visualising data in 2D-graphics), please start by familiarising yourself with the following basic functions first, which will be used in the following exercises.\n",
        "\n",
        "*   [pyplot.scatter()](https://matplotlib.org/stable/gallery/shapes_and_collections/scatter.html) - Draw a scatter plot\n",
        "*   [pyplot.plot()](https://matplotlib.org/stable/api/_as_gen/matplotlib.pyplot.plot.html) - Plot values as x, y coordinates in a data plot\n",
        "*   [pyplot.title()](https://matplotlib.org/stable/api/_as_gen/matplotlib.pyplot.title.html#matplotlib.pyplot.title) - Set a title for the plot\n",
        "*   [pyplot.xlabel()](https://matplotlib.org/stable/api/_as_gen/matplotlib.pyplot.xlabel.html) - Set the label for the x-axis\n",
        "*   [pyplot.xlim()](https://matplotlib.org/stable/api/_as_gen/matplotlib.pyplot.xlim.html) - Set the x-axis range\n"
      ],
      "metadata": {
        "id": "W7Q4nRBkV12O"
      }
    },
    {
      "cell_type": "code",
      "source": [
        "import matplotlib.pyplot as plt\n",
        "\n",
        "# TODO: Add your code here\n",
        "\n",
        "# 1. Draw Four Points\n",
        "# Hint: use plt.scatter() function\n",
        "\n",
        "plt.scatter(x[:,0],x[:,1])\n",
        "\n",
        "slope = -w[1]/w[0]\n",
        "\n",
        "print(w,b)\n",
        "\n",
        "\n",
        "line = np.linspace(start=0,stop=1)\n",
        "\n",
        "plt.plot(line , slope*line-b/w[0]) ## ???\n",
        "\n",
        "\n",
        "# 2. Draw Decision Boundary\n",
        "# Hint: 1) use trained w and b in Exercise 1 to calculate [slope] and [intercept] of the decision line\n",
        "#       2) use plt.plot() to draw the decision line: y = [slope] * x + [intercept]\n",
        "\n",
        "\n",
        "\n",
        "\n",
        "\n",
        "plt.show()"
      ],
      "metadata": {
        "id": "1n3Ay2432vSC",
        "colab": {
          "base_uri": "https://localhost:8080/",
          "height": 447
        },
        "outputId": "fd53d2f5-84c9-4ff7-f38c-37f3864ca735"
      },
      "execution_count": 63,
      "outputs": [
        {
          "output_type": "stream",
          "name": "stdout",
          "text": [
            "[-0.14942774 -0.60913761] 0.6169061375638795\n"
          ]
        },
        {
          "output_type": "display_data",
          "data": {
            "text/plain": [
              "<Figure size 640x480 with 1 Axes>"
            ],
            "image/png": "[encoded data removed]"
          },
          "metadata": {}
        }
      ]
    },
    {
      "cell_type": "markdown",
      "source": [
        "## Optimisation 1. Unified Weight Vector and Bias Training\n",
        "\n",
        "Let us now optimise the previous code for training the NAND gate. To train the weight vector $\\boldsymbol{w}$ and bias $b$ in a unified code,  we include a bias term as an additional dimension to input $\\boldsymbol{x}$. More concretely, we append $1$ to each input:\n",
        "\n",
        "$$\n",
        "\\boldsymbol{x}'^{(1)} = [0, 0, 1], \\quad y^{(1)} = 1 \\\\\n",
        "\\boldsymbol{x}'^{(2)} = [0, 1, 1], \\quad y^{(2)} = 1 \\\\\n",
        "\\boldsymbol{x}'^{(3)} = [1, 0, 1], \\quad y^{(3)} = 1 \\\\\n",
        "\\boldsymbol{x}'^{(4)} = [1, 1, 1], \\quad y^{(4)} = 0 \\\\\n",
        "$$\n",
        "\n",
        "Then, the formula of the single-layer perceptron becomes\n",
        "\n",
        "$$\n",
        "\\hat{y} = H((w_1, w_2, w_3) \\cdot \\boldsymbol{x}') = H(w_1 x_1 + w_2 x_2 + w_3)\n",
        "$$\n",
        "\n",
        "where $w_1$ and $w_2$ represent weights for $x_1$ and $x_2$, respectively, and $w_3$ is a bias weight."
      ],
      "metadata": {
        "id": "_BV1UvHyEbU-"
      }
    },
    {
      "cell_type": "markdown",
      "source": [
        "### Exercise 3\n",
        "\n",
        "Using the above unified formula, write a piece of code to train the NAND gate for Optimised Version 1."
      ],
      "metadata": {
        "id": "Qdb-3gPWQDt-"
      }
    },
    {
      "cell_type": "code",
      "source": [
        "import numpy as np\n",
        "\n",
        "# TODO: Add your code here\n",
        "\n",
        "x = np.array([[0,0,1],[0,1,1],[1,0,1],[1,1,1]])\n",
        "y = np.array([1,1,1,0])\n",
        "\n",
        "\n",
        "# 2. Initialise w and b at random and set alpha value\n",
        "w = np.random.rand(3)\n",
        "\n",
        "\n",
        "def predict(x,w):\n",
        "  return(np.heaviside(np.dot(x,w),1))\n",
        "\n",
        "\n",
        "\n",
        "# 3. Iteratively update w and b using perceptron learning rule\n",
        "#    Hint:  (e.g.) w = w + (y[i] - y_hat) * alpha * x[i]  (for each i-th example)\n",
        "#        where y_hat is the predicted output w.r.t. input x[i]\n",
        "flag=True\n",
        "while flag:\n",
        "  flag=False\n",
        "  for i in range (len (x)):\n",
        "    y_hat = predict(x[i],w)\n",
        "\n",
        "    if y_hat != y[i]: # for a misclassified input\n",
        "      flag=True\n",
        "      w = w + (y[i] - y_hat) * alpha * x[i]\n",
        "\n",
        "\n",
        "\n",
        "# 4. Predict y_pred from NAND input vector x using trained w and b\n",
        "print(predict(x,w))\n",
        "\n",
        "\n",
        "print(f'weight      = {w[0], w[1]}')\n",
        "print(f'bias        = {w[2]}')\n"
      ],
      "metadata": {
        "id": "GwV1qtMmG0oi",
        "colab": {
          "base_uri": "https://localhost:8080/"
        },
        "outputId": "6de7c572-c6b0-4f9e-99e7-64674596a88b"
      },
      "execution_count": 69,
      "outputs": [
        {
          "output_type": "stream",
          "name": "stdout",
          "text": [
            "[1. 1. 1. 0.]\n",
            "weight      = (-0.43393041821220135, -0.35222457410333824)\n",
            "bias        = 0.6226920462019494\n"
          ]
        }
      ]
    },
    {
      "cell_type": "markdown",
      "source": [
        "## Optimisation 2. Vectorised Mini-batch\n",
        "\n",
        "It is also desirable to reduce the execution time of the Python interpreter, which is relatively slow. The common technique to speed up a machine-learning code written in Python is to execute computations within the matrix library (e.g. numpy).\n",
        "\n",
        "The single-layer perceptron makes predictions for four inputs:\n",
        "\n",
        "$$\n",
        "\\hat{y}^{(1)} = g(\\boldsymbol{x}^{(1)} \\cdot \\boldsymbol{w}) \\\\\n",
        "\\hat{y}^{(2)} = g(\\boldsymbol{x}^{(2)} \\cdot \\boldsymbol{w}) \\\\\n",
        "\\hat{y}^{(3)} = g(\\boldsymbol{x}^{(3)} \\cdot \\boldsymbol{w}) \\\\\n",
        "\\hat{y}^{(4)} = g(\\boldsymbol{x}^{(4)} \\cdot \\boldsymbol{w}) \\\\\n",
        "$$\n",
        "\n",
        "Here, we introduce two matrices\n",
        "\n",
        "$$\n",
        "\\hat{Y} = \\begin{bmatrix}\n",
        "  \\hat{y}^{(1)} \\\\\n",
        "  \\hat{y}^{(2)} \\\\\n",
        "  \\hat{y}^{(3)} \\\\\n",
        "  \\hat{y}^{(4)} \\\\\n",
        "\\end{bmatrix} \\in \\mathbb{R}^{4 \\times 1}, \\quad\n",
        "X = \\begin{bmatrix}\n",
        "  \\boldsymbol{x}^{(1)} \\\\\n",
        "  \\boldsymbol{x}^{(2)} \\\\\n",
        "  \\boldsymbol{x}^{(3)} \\\\\n",
        "  \\boldsymbol{x}^{(4)} \\\\\n",
        "\\end{bmatrix} \\in \\mathbb{R}^{4 \\times n}\n",
        "$$\n",
        "\n",
        "Then, we can write the four predictions in one dot-product computation:\n",
        "\n",
        "$$\n",
        "\\hat{Y} = X \\cdot \\boldsymbol{w}\n",
        "$$\n"
      ],
      "metadata": {
        "id": "Hlz3Io4RL7X_"
      }
    },
    {
      "cell_type": "markdown",
      "source": [
        "### Exercise 4\n",
        "\n",
        "Write a piece of code for the Optimised Version 2 to emulate the NAND gate that implements the idea for vectorised mini-batch training."
      ],
      "metadata": {
        "id": "olP0oJegRSGN"
      }
    },
    {
      "cell_type": "code",
      "source": [
        "import numpy as np\n",
        "\n",
        "\n",
        "x = np.array([[0,0,1],[0,1,1],[1,0,1],[1,1,1]])\n",
        "y = np.array([1,1,1,0])\n",
        "\n",
        "\n",
        "# 2. Initialise w and b at random and set alpha value\n",
        "w = np.random.rand(3)\n",
        "alpha=0.2\n",
        "\n",
        "def predict(X,w):\n",
        "  return(np.heaviside(np.dot(X,w),1))\n",
        "\n",
        "\n",
        "\n",
        "# 3. Iteratively update w and b using perceptron learning rule\n",
        "#    Hint:  (e.g.) w = w + (y[i] - y_hat) * alpha * x[i]  (for each i-th example)\n",
        "#        where y_hat is the predicted output w.r.t. input x[i]\n",
        "flag=True\n",
        "while flag:\n",
        "  flag=False\n",
        "  y_hats = predict(x,w)\n",
        "  for i in range (len (x)):\n",
        "    if y_hats[i] != y[i]: # for a misclassified input\n",
        "      flag=True\n",
        "      w = w + (y[i] - y_hats[i]) * alpha * x[i]\n",
        "\n",
        "\n",
        "\n",
        "# 4. Predict y_pred from NAND input vector x using trained w and b\n",
        "print(predict(x,w))\n",
        "print(f'weight      = {w[0], w[1]}')\n",
        "print(f'bias        = {w[2]}')\n"
      ],
      "metadata": {
        "id": "n-hZHvJgNPZ9",
        "colab": {
          "base_uri": "https://localhost:8080/"
        },
        "outputId": "d6ee3668-1675-499f-f70f-5ddef80ed074"
      },
      "execution_count": 6,
      "outputs": [
        {
          "output_type": "stream",
          "name": "stdout",
          "text": [
            "[1. 1. 1. 0.]\n",
            "weight      = (-0.4410169149164421, -0.28561134192399906)\n",
            "bias        = 0.4501149273867097\n"
          ]
        }
      ]
    },
    {
      "cell_type": "markdown",
      "source": [
        "## Bonus Exercises: Smoother Function Using Gradient Descent\n",
        "\n",
        "The Heaviside function used by the perceptron is very harsh because a small change in the input can sometimes cause the output to completely flip from 0 to 1. To overcome this problem, we can introduce a new type of smoother function, e.g. a Sigmoid neuron, whose output is much smoother than the Heaviside function."
      ],
      "metadata": {
        "id": "HkEPA5ftgo4J"
      }
    },
    {
      "cell_type": "markdown",
      "source": [
        "### Exercise 5\n",
        "\n",
        "Write a piece of code to define `sigmoid(x)` function and plot it over the interval $x \\in [-10, 10]$."
      ],
      "metadata": {
        "id": "IEYMbOWPX5bx"
      }
    },
    {
      "cell_type": "code",
      "source": [
        "import numpy as np\n",
        "import matplotlib.pyplot as plt\n",
        "\n",
        "def sigmoid(x):\n",
        "    # TODO: add your code here to define sigmoid\n",
        "\n",
        "\n",
        "# TODO: add your code here to plot sigmoid\n",
        "\n",
        "\n",
        "\n",
        "\n"
      ],
      "metadata": {
        "id": "kDSC5czyllSJ",
        "colab": {
          "base_uri": "https://localhost:8080/",
          "height": 296
        },
        "outputId": "edfabd22-9742-4af0-d1c5-a0be19c37ebf"
      },
      "execution_count": null,
      "outputs": [
        {
          "output_type": "execute_result",
          "data": {
            "text/plain": [
              "[<matplotlib.lines.Line2D at 0x7f6a1406f850>]"
            ]
          },
          "metadata": {},
          "execution_count": 5
        },
        {
          "output_type": "display_data",
          "data": {
            "text/plain": [
              "<Figure size 432x288 with 1 Axes>"
            ],
            "image/png": "[encoded data removed]"
          },
          "metadata": {
            "needs_background": "light"
          }
        }
      ]
    },
    {
      "cell_type": "markdown",
      "source": [
        "In the Sigmoid neuron, a small change in the input only causes a small change in the output. Unlike the Heaviside function, whose output is only 0 or 1, the output of Sigmoid neuron is a real value between 0 and 1, which can be interpreted as a probability."
      ],
      "metadata": {
        "id": "UJ2nY0UDlmJl"
      }
    },
    {
      "cell_type": "markdown",
      "source": [
        "### Exercise 6\n",
        "\n",
        "Using the Sigmoid function defined in Exercise 5, write a piece of code to emulate the NAND gate through the gradient descent method. Your code can be slightly modified from the previous code in Exercise 4."
      ],
      "metadata": {
        "id": "q7YQC87iSlAH"
      }
    },
    {
      "cell_type": "code",
      "source": [
        "import numpy as np\n",
        "\n",
        "# TODO: Add your code here\n",
        "\n",
        "\n",
        "\n",
        "\n",
        "\n",
        "print(f'weight      = {w[0], w[1]}')\n",
        "print(f'bias        = {w[2]}')\n",
        "print(f'predicted y = {y_pred}')"
      ],
      "metadata": {
        "id": "On7Ls7Cdf0Ja",
        "colab": {
          "base_uri": "https://localhost:8080/"
        },
        "outputId": "09aa6e8c-ecab-449d-a497-46775af1c832"
      },
      "execution_count": null,
      "outputs": [
        {
          "output_type": "stream",
          "name": "stdout",
          "text": [
            "weight      = (-5.572713158616354, -5.572713158616354)\n",
            "bias        = 8.53870165185146\n",
            "predicted y = [0.99980429 0.95101373 0.95101373 0.06870688]\n"
          ]
        }
      ]
    }
  ]
}